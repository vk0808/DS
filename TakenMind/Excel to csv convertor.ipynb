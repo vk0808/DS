{
 "cells": [
  {
   "cell_type": "code",
   "execution_count": 60,
   "metadata": {},
   "outputs": [
    {
     "name": "stdout",
     "output_type": "stream",
     "text": [
      "Sheet10.csv\n",
      "Sheet9.csv\n",
      "Sheet8.csv\n",
      "Sheet7.csv\n",
      "Sheet6.csv\n",
      "Sheet5.csv\n",
      "Sheet4.csv\n",
      "Sheet3.csv\n",
      "Sheet2.csv\n",
      "Sheet1.csv\n"
     ]
    }
   ],
   "source": [
    "##Python 3 Script\n",
    "\n",
    "import unicodecsv\n",
    "from xlrd import open_workbook\n",
    "\n",
    "f=open_workbook('Dummy.xlsx')\n",
    "r = len(f.sheet_names())\n",
    "for x in range(r):\n",
    "    sh = f.sheet_by_index(x)\n",
    "    filename = (sh.name+'.csv')\n",
    "    print(filename)\n",
    "    fh = open(filename,\"wb\")\n",
    "    csv_out = unicodecsv.writer(fh, encoding='utf-8')\n",
    "    for row_number in range(sh.nrows):\n",
    "        csv_out.writerow(sh.row_values(row_number))\n",
    "    fh.close()"
   ]
  }
 ],
 "metadata": {
  "kernelspec": {
   "display_name": "Python 3",
   "language": "python",
   "name": "python3"
  },
  "language_info": {
   "codemirror_mode": {
    "name": "ipython",
    "version": 3
   },
   "file_extension": ".py",
   "mimetype": "text/x-python",
   "name": "python",
   "nbconvert_exporter": "python",
   "pygments_lexer": "ipython3",
   "version": "3.7.0"
  }
 },
 "nbformat": 4,
 "nbformat_minor": 2
}
