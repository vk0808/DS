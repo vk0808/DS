{
 "cells": [
  {
   "cell_type": "code",
   "execution_count": 24,
   "metadata": {},
   "outputs": [
    {
     "name": "stdout",
     "output_type": "stream",
     "text": [
      "Dataframe\n",
      "       country  year         pop continent  lifeExp   gdpPercap\n",
      "0  Afghanistan  1952   8425333.0      Asia   28.801  779.445314\n",
      "1  Afghanistan  1957   9240934.0      Asia   30.332  820.853030\n",
      "2  Afghanistan  1962  10267083.0      Asia   31.997  853.100710\n",
      "3  Afghanistan  1967  11537966.0      Asia   34.020  836.197138\n",
      "4  Afghanistan  1972  13079460.0      Asia   36.088  739.981106\n",
      "Dataframe Pivot Table\n",
      "year           1952        1957        1962        1967        1972  \\\n",
      "continent                                                             \n",
      "Africa     2035.046  2145.85000  2252.61100  2357.39600  2467.44900   \n",
      "Americas   1331.996  1399.00700  1459.96900  1510.27300  1559.87300   \n",
      "Asia       1528.375  1627.51196  1701.58636  1803.90012  1891.53588   \n",
      "Europe     1932.255  2001.09200  2056.17700  2092.12800  2123.25100   \n",
      "Oceania     138.510   140.59000   142.17000   142.62000   143.82000   \n",
      "\n",
      "year             1977      1982      1987      1992      1997      2002  \\\n",
      "continent                                                                 \n",
      "Africa     2578.18200  2682.829  2773.929  2788.738  2787.110  2772.912   \n",
      "Americas   1609.78900  1655.721  1702.268  1739.209  1778.762  1810.551   \n",
      "Asia       1967.14836  2066.392  2140.089  2195.728  2244.677  2284.718   \n",
      "Europe     2158.13300  2184.192  2209.265  2233.203  2265.155  2301.018   \n",
      "Oceania     145.71000   148.580   150.640   153.890   156.380   159.480   \n",
      "\n",
      "year           2007  \n",
      "continent            \n",
      "Africa     2849.914  \n",
      "Americas   1840.203  \n",
      "Asia       2334.040  \n",
      "Europe     2329.458  \n",
      "Oceania     161.439  \n"
     ]
    },
    {
     "data": {
      "image/png": "[encoded data removed]",
      "text/plain": [
       "<Figure size 432x288 with 2 Axes>"
      ]
     },
     "metadata": {
      "needs_background": "light"
     },
     "output_type": "display_data"
    }
   ],
   "source": [
    "import pandas as pd\n",
    "import seaborn as sb\n",
    "import matplotlib.pyplot as plt\n",
    "%matplotlib inline\n",
    "\n",
    "d = pd.read_csv('gapminder-FiveYearData.csv')\n",
    "df = pd.DataFrame(d)\n",
    "print(\"Dataframe\")\n",
    "print(df.head())\n",
    "\n",
    "table = pd.pivot_table(df, values='lifeExp', index='continent', columns='year', aggfunc=np.sum)\n",
    "print(\"Dataframe Pivot Table\")\n",
    "print(table)\n",
    "\n",
    "fig = sb.heatmap(table)\n",
    "plt.savefig('Seaborn.png')"
   ]
  }
 ],
 "metadata": {
  "kernelspec": {
   "display_name": "Python 3",
   "language": "python",
   "name": "python3"
  },
  "language_info": {
   "codemirror_mode": {
    "name": "ipython",
    "version": 3
   },
   "file_extension": ".py",
   "mimetype": "text/x-python",
   "name": "python",
   "nbconvert_exporter": "python",
   "pygments_lexer": "ipython3",
   "version": "3.7.0"
  }
 },
 "nbformat": 4,
 "nbformat_minor": 2
}
